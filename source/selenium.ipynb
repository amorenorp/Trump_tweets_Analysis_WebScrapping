{
 "cells": [
  {
   "cell_type": "code",
   "execution_count": 6,
   "metadata": {},
   "outputs": [],
   "source": [
    "from selenium import webdriver\n",
    "from selenium.webdriver.common.by import By\n",
    "from selenium.webdriver.support.ui import WebDriverWait\n",
    "from selenium.webdriver.support import expected_conditions as EC\n",
    "from bs4 import BeautifulSoup\n",
    "import fun_selenium as fns"
   ]
  },
  {
   "cell_type": "code",
   "execution_count": 39,
   "metadata": {},
   "outputs": [
    {
     "data": {
      "text/plain": [
       "'Task done!'"
      ]
     },
     "execution_count": 39,
     "metadata": {},
     "output_type": "execute_result"
    }
   ],
   "source": [
    "fns.nasdaqinfo(\"https://finance.yahoo.com/quote/%5EIXIC/history/?guce_referrer=aHR0cHM6Ly93d3cuZ29vZ2xlLmNvbS8&guce_referrer_sig=AQAAANi58iX0WyXEeycCs7bVqEPQtLiFIv6oysL-5MGFfFkudqCZ_mYT6ed9mAHMO_FcykTJzelOaVAHUiA2_njjmJZRUl2Ya3Vpj4gQrqePDwacxt1w_G7lL-6ZBnhG3aeoPskleuYSZJmcr8ImjTUMT9It6iMZKFQ7Um7ozY80jlZ1&guccounter=2\")"
   ]
  },
  {
   "cell_type": "markdown",
   "metadata": {},
   "source": [
    "## Se descarga el .csv en la carpeta \"descargas\".  Y lo abrimos en un jupyter para hacer el data-cleanning"
   ]
  },
  {
   "cell_type": "code",
   "execution_count": 7,
   "metadata": {},
   "outputs": [],
   "source": [
    "def nasdaqinfo(url):\n",
    "    # open chrome\n",
    "    driver = webdriver.Chrome()\n",
    "    driver.implicitly_wait(30) # Esperar 30s para cargar\n",
    "    \n",
    "    # abrir la url que le damos\n",
    "    driver.get(url)\n",
    "    \n",
    "    \n",
    "    #1 Abrir desplegable fecha\n",
    "    WebDriverWait(driver, 10)\\\n",
    "    .until(EC.element_to_be_clickable((By.XPATH,\n",
    "                                      '/html/body/div[1]/div/div/div[1]/div/div[3]/div[1]/div/div[2]/div/div/section/div[1]/div[1]/div[1]/div/div/div/span')))\\\n",
    "    .click()                                                          \n",
    "     \n",
    "    #2 seleccionar fecha\n",
    "    WebDriverWait(driver, 10)\\\n",
    "    .until(EC.element_to_be_clickable((By.XPATH,\n",
    "                                      '/html/body/div[1]/div/div/div[1]/div/div[3]/div[1]/div/div[2]/div/div/section/div[1]/div[1]/div[1]/div/div/div/div/div/ul[2]/li[3]/button')))\\\n",
    "    .click()    \n",
    "        \n",
    "    \n",
    "          \n",
    "    #2 boton apply\n",
    "    WebDriverWait(driver, 10)\\\n",
    "    .until(EC.element_to_be_clickable((By.XPATH,\n",
    "                                      '/html/body/div[1]/div/div/div[1]/div/div[3]/div[1]/div/div[2]/div/div/section/div[1]/div[1]/button')))\\\n",
    "    .click()\n",
    "    \n",
    "    #2 Selec download\n",
    "    WebDriverWait(driver, 10)\\\n",
    "    .until(EC.element_to_be_clickable((By.XPATH,\n",
    "                                      '/html/body/div[1]/div/div/div[1]/div/div[3]/div[1]/div/div[2]/div/div/section/div[1]/div[2]/span[2]/a/span')))\\\n",
    "    .click()\n",
    "    \n",
    "    \"\"\"\n",
    "    #close google\n",
    "    driver.quit()\n",
    "    \"\"\"\n",
    "    return \"Task done!\""
   ]
  },
  {
   "cell_type": "code",
   "execution_count": 8,
   "metadata": {},
   "outputs": [
    {
     "data": {
      "text/plain": [
       "'Task done!'"
      ]
     },
     "execution_count": 8,
     "metadata": {},
     "output_type": "execute_result"
    }
   ],
   "source": [
    "nasdaqinfo(\"https://finance.yahoo.com/quote/%5EIXIC/history/?guce_referrer=aHR0cHM6Ly93d3cuZ29vZ2xlLmNvbS8&guce_referrer_sig=AQAAANi58iX0WyXEeycCs7bVqEPQtLiFIv6oysL-5MGFfFkudqCZ_mYT6ed9mAHMO_FcykTJzelOaVAHUiA2_njjmJZRUl2Ya3Vpj4gQrqePDwacxt1w_G7lL-6ZBnhG3aeoPskleuYSZJmcr8ImjTUMT9It6iMZKFQ7Um7ozY80jlZ1&guccounter=2\")"
   ]
  },
  {
   "cell_type": "code",
   "execution_count": null,
   "metadata": {},
   "outputs": [],
   "source": []
  }
 ],
 "metadata": {
  "kernelspec": {
   "display_name": "Python 3",
   "language": "python",
   "name": "python3"
  },
  "language_info": {
   "codemirror_mode": {
    "name": "ipython",
    "version": 3
   },
   "file_extension": ".py",
   "mimetype": "text/x-python",
   "name": "python",
   "nbconvert_exporter": "python",
   "pygments_lexer": "ipython3",
   "version": "3.8.5"
  }
 },
 "nbformat": 4,
 "nbformat_minor": 4
}
