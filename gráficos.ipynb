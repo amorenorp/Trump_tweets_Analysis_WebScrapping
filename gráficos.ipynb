{
 "cells": [
  {
   "cell_type": "code",
   "execution_count": 80,
   "id": "acquired-induction",
   "metadata": {},
   "outputs": [],
   "source": [
    "import pandas as pd\n",
    "import datetime\n",
    "import seaborn as sns\n",
    "import matplotlib.pyplot as plt\n",
    "%matplotlib inline\n",
    "import warnings\n",
    "warnings.filterwarnings(\"ignore\")"
   ]
  },
  {
   "cell_type": "markdown",
   "id": "selected-transfer",
   "metadata": {},
   "source": [
    "# Abrimos la tabla final creada a partir de las funciones en la que podemos ver un resumen de la cantidad de tweets de Trump y los datos del índice Nasdaq esos días.\n",
    "\n",
    "### Realizamos los últimos ajustes de limpieza"
   ]
  },
  {
   "cell_type": "code",
   "execution_count": 81,
   "id": "blank-direction",
   "metadata": {},
   "outputs": [],
   "source": [
    "data = pd.read_csv(\"output/tabla_final.csv\")"
   ]
  },
  {
   "cell_type": "code",
   "execution_count": 82,
   "id": "executed-tamil",
   "metadata": {},
   "outputs": [],
   "source": [
    "df = pd.DataFrame(data)"
   ]
  },
  {
   "cell_type": "code",
   "execution_count": 83,
   "id": "historical-camcorder",
   "metadata": {},
   "outputs": [],
   "source": [
    "df = df[['Date','Open','Close','crecimiento',\"%\", \"tweet_count\", \"tweets\"]]"
   ]
  },
  {
   "cell_type": "code",
   "execution_count": 84,
   "id": "suffering-microphone",
   "metadata": {},
   "outputs": [],
   "source": [
    "df['Date'] = pd.to_datetime(df['Date'])"
   ]
  },
  {
   "cell_type": "code",
   "execution_count": 85,
   "id": "usual-original",
   "metadata": {},
   "outputs": [],
   "source": [
    "df[\"year\"]= df[\"Date\"].dt.year"
   ]
  },
  {
   "cell_type": "code",
   "execution_count": 86,
   "id": "dangerous-flood",
   "metadata": {},
   "outputs": [],
   "source": [
    "media_al_día = df.groupby(\"year\")[\"tweet_count\"].mean()"
   ]
  },
  {
   "cell_type": "code",
   "execution_count": 87,
   "id": "seven-addiction",
   "metadata": {},
   "outputs": [],
   "source": [
    "media_creci = df.groupby(\"year\")[\"%\"].mean()"
   ]
  },
  {
   "cell_type": "code",
   "execution_count": 88,
   "id": "prescription-transcript",
   "metadata": {},
   "outputs": [],
   "source": [
    "df1 = df.join(media_al_día, on= [\"year\"],how='inner', lsuffix='_left', rsuffix='_right')"
   ]
  },
  {
   "cell_type": "code",
   "execution_count": 89,
   "id": "widespread-narrow",
   "metadata": {},
   "outputs": [],
   "source": [
    "df2 = df1.join(media_creci, on= [\"year\"],how='inner', lsuffix='_left', rsuffix='_right')"
   ]
  },
  {
   "cell_type": "code",
   "execution_count": 90,
   "id": "atmospheric-grammar",
   "metadata": {},
   "outputs": [],
   "source": [
    "df2.rename(columns = {\"%_left\":\"%\", \n",
    "                   \"tweet_count_left\":\"tweet count\",\n",
    "                   \"tweet_count_right\":\"media tweets día\",\n",
    "                   \"%_right\":\"media % creci al día\"}, inplace=True)"
   ]
  },
  {
   "cell_type": "markdown",
   "id": "catholic-missouri",
   "metadata": {},
   "source": [
    "# Ahora sí la tabla está completa."
   ]
  },
  {
   "cell_type": "code",
   "execution_count": 91,
   "id": "incident-feeling",
   "metadata": {},
   "outputs": [
    {
     "data": {
      "text/html": [
       "<div>\n",
       "<style scoped>\n",
       "    .dataframe tbody tr th:only-of-type {\n",
       "        vertical-align: middle;\n",
       "    }\n",
       "\n",
       "    .dataframe tbody tr th {\n",
       "        vertical-align: top;\n",
       "    }\n",
       "\n",
       "    .dataframe thead th {\n",
       "        text-align: right;\n",
       "    }\n",
       "</style>\n",
       "<table border=\"1\" class=\"dataframe\">\n",
       "  <thead>\n",
       "    <tr style=\"text-align: right;\">\n",
       "      <th></th>\n",
       "      <th>Date</th>\n",
       "      <th>Open</th>\n",
       "      <th>Close</th>\n",
       "      <th>crecimiento</th>\n",
       "      <th>%</th>\n",
       "      <th>tweet count</th>\n",
       "      <th>tweets</th>\n",
       "      <th>year</th>\n",
       "      <th>media tweets día</th>\n",
       "      <th>media % creci al día</th>\n",
       "    </tr>\n",
       "  </thead>\n",
       "  <tbody>\n",
       "    <tr>\n",
       "      <th>0</th>\n",
       "      <td>2016-10-20</td>\n",
       "      <td>5238.200195</td>\n",
       "      <td>5241.830078</td>\n",
       "      <td>3.629883</td>\n",
       "      <td>0.069248</td>\n",
       "      <td>78</td>\n",
       "      <td>Más de 35</td>\n",
       "      <td>2016</td>\n",
       "      <td>10.759825</td>\n",
       "      <td>0.060753</td>\n",
       "    </tr>\n",
       "    <tr>\n",
       "      <th>1</th>\n",
       "      <td>2016-05-18</td>\n",
       "      <td>4705.779785</td>\n",
       "      <td>4739.120117</td>\n",
       "      <td>33.340332</td>\n",
       "      <td>0.703513</td>\n",
       "      <td>47</td>\n",
       "      <td>Más de 35</td>\n",
       "      <td>2016</td>\n",
       "      <td>10.759825</td>\n",
       "      <td>0.060753</td>\n",
       "    </tr>\n",
       "    <tr>\n",
       "      <th>2</th>\n",
       "      <td>2016-10-05</td>\n",
       "      <td>5305.279785</td>\n",
       "      <td>5316.020020</td>\n",
       "      <td>10.740235</td>\n",
       "      <td>0.202035</td>\n",
       "      <td>46</td>\n",
       "      <td>Más de 35</td>\n",
       "      <td>2016</td>\n",
       "      <td>10.759825</td>\n",
       "      <td>0.060753</td>\n",
       "    </tr>\n",
       "    <tr>\n",
       "      <th>3</th>\n",
       "      <td>2016-09-27</td>\n",
       "      <td>5254.180176</td>\n",
       "      <td>5305.709961</td>\n",
       "      <td>51.529785</td>\n",
       "      <td>0.971214</td>\n",
       "      <td>43</td>\n",
       "      <td>Más de 35</td>\n",
       "      <td>2016</td>\n",
       "      <td>10.759825</td>\n",
       "      <td>0.060753</td>\n",
       "    </tr>\n",
       "    <tr>\n",
       "      <th>4</th>\n",
       "      <td>2016-10-10</td>\n",
       "      <td>5318.459961</td>\n",
       "      <td>5328.669922</td>\n",
       "      <td>10.209961</td>\n",
       "      <td>0.191604</td>\n",
       "      <td>42</td>\n",
       "      <td>Más de 35</td>\n",
       "      <td>2016</td>\n",
       "      <td>10.759825</td>\n",
       "      <td>0.060753</td>\n",
       "    </tr>\n",
       "    <tr>\n",
       "      <th>...</th>\n",
       "      <td>...</td>\n",
       "      <td>...</td>\n",
       "      <td>...</td>\n",
       "      <td>...</td>\n",
       "      <td>...</td>\n",
       "      <td>...</td>\n",
       "      <td>...</td>\n",
       "      <td>...</td>\n",
       "      <td>...</td>\n",
       "      <td>...</td>\n",
       "    </tr>\n",
       "    <tr>\n",
       "      <th>474</th>\n",
       "      <td>2020-01-02</td>\n",
       "      <td>9039.459961</td>\n",
       "      <td>9092.190430</td>\n",
       "      <td>52.730469</td>\n",
       "      <td>0.579953</td>\n",
       "      <td>9</td>\n",
       "      <td>Resto</td>\n",
       "      <td>2020</td>\n",
       "      <td>9.250000</td>\n",
       "      <td>0.284297</td>\n",
       "    </tr>\n",
       "    <tr>\n",
       "      <th>649</th>\n",
       "      <td>2020-01-07</td>\n",
       "      <td>9076.639648</td>\n",
       "      <td>9068.580078</td>\n",
       "      <td>-8.059570</td>\n",
       "      <td>-0.088874</td>\n",
       "      <td>6</td>\n",
       "      <td>Resto</td>\n",
       "      <td>2020</td>\n",
       "      <td>9.250000</td>\n",
       "      <td>0.284297</td>\n",
       "    </tr>\n",
       "    <tr>\n",
       "      <th>706</th>\n",
       "      <td>2020-01-06</td>\n",
       "      <td>8943.500000</td>\n",
       "      <td>9071.469727</td>\n",
       "      <td>127.969727</td>\n",
       "      <td>1.410684</td>\n",
       "      <td>6</td>\n",
       "      <td>Resto</td>\n",
       "      <td>2020</td>\n",
       "      <td>9.250000</td>\n",
       "      <td>0.284297</td>\n",
       "    </tr>\n",
       "    <tr>\n",
       "      <th>898</th>\n",
       "      <td>2020-01-14</td>\n",
       "      <td>9270.610352</td>\n",
       "      <td>9251.330078</td>\n",
       "      <td>-19.280274</td>\n",
       "      <td>-0.208405</td>\n",
       "      <td>3</td>\n",
       "      <td>Menos de 6</td>\n",
       "      <td>2020</td>\n",
       "      <td>9.250000</td>\n",
       "      <td>0.284297</td>\n",
       "    </tr>\n",
       "    <tr>\n",
       "      <th>962</th>\n",
       "      <td>2020-01-08</td>\n",
       "      <td>9068.030273</td>\n",
       "      <td>9129.240234</td>\n",
       "      <td>61.209961</td>\n",
       "      <td>0.670483</td>\n",
       "      <td>1</td>\n",
       "      <td>Menos de 6</td>\n",
       "      <td>2020</td>\n",
       "      <td>9.250000</td>\n",
       "      <td>0.284297</td>\n",
       "    </tr>\n",
       "  </tbody>\n",
       "</table>\n",
       "<p>989 rows × 10 columns</p>\n",
       "</div>"
      ],
      "text/plain": [
       "          Date         Open        Close  crecimiento         %  tweet count  \\\n",
       "0   2016-10-20  5238.200195  5241.830078     3.629883  0.069248           78   \n",
       "1   2016-05-18  4705.779785  4739.120117    33.340332  0.703513           47   \n",
       "2   2016-10-05  5305.279785  5316.020020    10.740235  0.202035           46   \n",
       "3   2016-09-27  5254.180176  5305.709961    51.529785  0.971214           43   \n",
       "4   2016-10-10  5318.459961  5328.669922    10.209961  0.191604           42   \n",
       "..         ...          ...          ...          ...       ...          ...   \n",
       "474 2020-01-02  9039.459961  9092.190430    52.730469  0.579953            9   \n",
       "649 2020-01-07  9076.639648  9068.580078    -8.059570 -0.088874            6   \n",
       "706 2020-01-06  8943.500000  9071.469727   127.969727  1.410684            6   \n",
       "898 2020-01-14  9270.610352  9251.330078   -19.280274 -0.208405            3   \n",
       "962 2020-01-08  9068.030273  9129.240234    61.209961  0.670483            1   \n",
       "\n",
       "         tweets  year  media tweets día  media % creci al día  \n",
       "0     Más de 35  2016         10.759825              0.060753  \n",
       "1     Más de 35  2016         10.759825              0.060753  \n",
       "2     Más de 35  2016         10.759825              0.060753  \n",
       "3     Más de 35  2016         10.759825              0.060753  \n",
       "4     Más de 35  2016         10.759825              0.060753  \n",
       "..          ...   ...               ...                   ...  \n",
       "474       Resto  2020          9.250000              0.284297  \n",
       "649       Resto  2020          9.250000              0.284297  \n",
       "706       Resto  2020          9.250000              0.284297  \n",
       "898  Menos de 6  2020          9.250000              0.284297  \n",
       "962  Menos de 6  2020          9.250000              0.284297  \n",
       "\n",
       "[989 rows x 10 columns]"
      ]
     },
     "execution_count": 91,
     "metadata": {},
     "output_type": "execute_result"
    }
   ],
   "source": [
    "df2"
   ]
  },
  {
   "cell_type": "markdown",
   "id": "external-murder",
   "metadata": {},
   "source": [
    "### Nos muestra la media de tweets diarios a lo largo de los últimos 4 años. "
   ]
  },
  {
   "cell_type": "code",
   "execution_count": 92,
   "id": "inner-exhibit",
   "metadata": {
    "scrolled": false
   },
   "outputs": [
    {
     "data": {
      "text/plain": [
       "<seaborn.axisgrid.FacetGrid at 0x12666ac70>"
      ]
     },
     "execution_count": 92,
     "metadata": {},
     "output_type": "execute_result"
    },
    {
     "data": {
      "image/png": "[encoded data removed]",
      "text/plain": [
       "<Figure size 396x360 with 1 Axes>"
      ]
     },
     "metadata": {},
     "output_type": "display_data"
    }
   ],
   "source": [
    "fig1 = sns.set_theme(style=\"darkgrid\")\n",
    "palette = sns.color_palette(\"rocket_r\")\n",
    "\n",
    "sns.catplot(\n",
    "    data=df2, kind=\"bar\",\n",
    "    x=\"year\", y=\"media tweets día\",palette=palette, size=5, aspect=1.1)"
   ]
  },
  {
   "cell_type": "markdown",
   "id": "satisfactory-penalty",
   "metadata": {},
   "source": [
    "## Esta figura tiene en cuenta sólo la cantidad de tweets diarios y nos muestra la media."
   ]
  },
  {
   "cell_type": "code",
   "execution_count": 93,
   "id": "entertaining-leather",
   "metadata": {},
   "outputs": [
    {
     "data": {
      "text/plain": [
       "<AxesSubplot:xlabel='tweet count'>"
      ]
     },
     "execution_count": 93,
     "metadata": {},
     "output_type": "execute_result"
    },
    {
     "data": {
      "image/png": "[encoded data removed]",
      "text/plain": [
       "<Figure size 432x288 with 1 Axes>"
      ]
     },
     "metadata": {},
     "output_type": "display_data"
    }
   ],
   "source": [
    "fig2 = sns.set_theme(style=\"darkgrid\")\n",
    "palette = sns.color_palette(\"rocket_r\")\n",
    "sns.boxenplot(data= df2, x = \"tweet count\",palette=palette)"
   ]
  },
  {
   "cell_type": "markdown",
   "id": "laughing-bridal",
   "metadata": {},
   "source": [
    "## La figura nos dibuja el porcentaje medio de crecimiento/decrecimiento diaro en el periodo que va de 2016 a 2020"
   ]
  },
  {
   "cell_type": "code",
   "execution_count": 94,
   "id": "loved-trouble",
   "metadata": {
    "scrolled": false
   },
   "outputs": [
    {
     "data": {
      "text/plain": [
       "<seaborn.axisgrid.FacetGrid at 0x12783a3d0>"
      ]
     },
     "execution_count": 94,
     "metadata": {},
     "output_type": "execute_result"
    },
    {
     "data": {
      "image/png": "[encoded data removed]",
      "text/plain": [
       "<Figure size 396x360 with 1 Axes>"
      ]
     },
     "metadata": {},
     "output_type": "display_data"
    }
   ],
   "source": [
    "fig3 = sns.set_theme(style=\"darkgrid\")\n",
    "palette = sns.color_palette(\"rocket_r\")\n",
    "\n",
    "sns.catplot(\n",
    "    data=df2, kind=\"bar\",\n",
    "    x=\"year\", y=\"media % creci al día\", palette=palette, size=5, aspect=1.1)"
   ]
  },
  {
   "cell_type": "markdown",
   "id": "authorized-links",
   "metadata": {},
   "source": [
    "## Muestra los puntos que de media el Nasdaq sube o baja diariamente. "
   ]
  },
  {
   "cell_type": "code",
   "execution_count": 95,
   "id": "based-fiber",
   "metadata": {},
   "outputs": [
    {
     "data": {
      "text/plain": [
       "<AxesSubplot:xlabel='year', ylabel='crecimiento'>"
      ]
     },
     "execution_count": 95,
     "metadata": {},
     "output_type": "execute_result"
    },
    {
     "data": {
      "image/png": "[encoded data removed]",
      "text/plain": [
       "<Figure size 432x288 with 1 Axes>"
      ]
     },
     "metadata": {},
     "output_type": "display_data"
    }
   ],
   "source": [
    "fig4 = sns.set_theme(style=\"darkgrid\")\n",
    "palette = sns.color_palette(\"rocket_r\")\n",
    "sns.boxenplot(data= df2, x = \"year\", y= \"crecimiento\", palette=palette)"
   ]
  },
  {
   "cell_type": "markdown",
   "id": "special-glucose",
   "metadata": {},
   "source": [
    "# Intentamos contestar la hipotesis con esta grafica,  y observamos que los días que Donald estuvo más activo el indice Nasdaq no se vió repercutido, todo lo contrario, aun que las subidas no superaran el 1%."
   ]
  },
  {
   "cell_type": "code",
   "execution_count": 96,
   "id": "amended-analyst",
   "metadata": {},
   "outputs": [
    {
     "data": {
      "image/png": "[encoded data removed]",
      "text/plain": [
       "<Figure size 396x360 with 1 Axes>"
      ]
     },
     "metadata": {},
     "output_type": "display_data"
    }
   ],
   "source": [
    "fig5 = sns.catplot(\n",
    "    data=df2, kind=\"bar\",\n",
    "    x=\"tweets\", y=\"media % creci al día\", palette=palette, size=5, aspect=1.1, ci= None)"
   ]
  }
 ],
 "metadata": {
  "kernelspec": {
   "display_name": "Python 3",
   "language": "python",
   "name": "python3"
  },
  "language_info": {
   "codemirror_mode": {
    "name": "ipython",
    "version": 3
   },
   "file_extension": ".py",
   "mimetype": "text/x-python",
   "name": "python",
   "nbconvert_exporter": "python",
   "pygments_lexer": "ipython3",
   "version": "3.8.5"
  }
 },
 "nbformat": 4,
 "nbformat_minor": 5
}
